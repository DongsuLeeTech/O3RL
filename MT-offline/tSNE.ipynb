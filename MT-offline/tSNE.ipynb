{
 "cells": [
  {
   "cell_type": "code",
   "execution_count": null,
   "metadata": {},
   "outputs": [],
   "source": [
    "import numpy as np\n",
    "import pandas as pd\n",
    "import matplotlib\n",
    "from matplotlib import pyplot as plt\n",
    "import scipy.stats as st\n",
    "from MulticoreTSNE import MulticoreTSNE as TSNE\n",
    "import seaborn as sns\n",
    "\n",
    "HF_S = np.load('./buffers/mixed_env/final/state.npy')\n",
    "\n",
    "HF_S_pd = pd.DataFrame(HF_S.tolist())"
   ]
  },
  {
   "cell_type": "code",
   "execution_count": 3,
   "metadata": {},
   "outputs": [],
   "source": [
    "import numpy as np\n",
    "import pandas as pd"
   ]
  },
  {
   "cell_type": "code",
   "execution_count": 4,
   "metadata": {},
   "outputs": [],
   "source": [
    "HF_S = np.load('./buffers/mixed_env/final/state.npy')\n",
    "HF_S_pd = pd.DataFrame(HF_S.tolist())"
   ]
  },
  {
   "cell_type": "code",
   "execution_count": 5,
   "metadata": {},
   "outputs": [
    {
     "data": {
      "text/plain": [
       "999999"
      ]
     },
     "execution_count": 5,
     "metadata": {},
     "output_type": "execute_result"
    }
   ],
   "source": [
    "n_components = 2\n",
    "model_NGS = TSNE(n_jobs=16, n_components=n_components, n_iter=100).fit_transform(HF_S)\n",
    "df = pd.DataFrame({'State': sum(model_NGS.tolist(), []), 'Action': sum(model_NGA.tolist(), [])})\n",
    "\n",
    "joint_plot = sns.jointplot(data=df, x='State', y='Action', kind='hex', xlim=[-1.5, 1.5], ylim=[-1.5, 1.5])\n",
    "fig = joint_plot.fig\n",
    "fig.tight_layout()\n",
    "# fig.savefig('./NGSIM_TSNE.pdf', format='pdf')"
   ]
  },
  {
   "cell_type": "code",
   "execution_count": null,
   "metadata": {},
   "outputs": [],
   "source": []
  }
 ],
 "metadata": {
  "kernelspec": {
   "display_name": "Python 3",
   "language": "python",
   "name": "python3"
  },
  "language_info": {
   "codemirror_mode": {
    "name": "ipython",
    "version": 3
   },
   "file_extension": ".py",
   "mimetype": "text/x-python",
   "name": "python",
   "nbconvert_exporter": "python",
   "pygments_lexer": "ipython3",
   "version": "3.7.3"
  }
 },
 "nbformat": 4,
 "nbformat_minor": 2
}
